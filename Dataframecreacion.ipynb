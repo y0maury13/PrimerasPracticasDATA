{
 "cells": [
  {
   "cell_type": "code",
   "execution_count": 1,
   "id": "ce2d9fd9-4514-409b-a8f4-41c124ca83d4",
   "metadata": {},
   "outputs": [],
   "source": [
    "import pandas as pd"
   ]
  },
  {
   "cell_type": "code",
   "execution_count": 6,
   "id": "f7df3c19-db30-4159-9db5-2c1e2ed7f05b",
   "metadata": {},
   "outputs": [],
   "source": [
    "data = [['Alice', 25], ['Bob', 30], ['Charlie', 35],['Rancel', 35],['Jonas', 25],['Julia', 14]]\n",
    "df_datos= pd.DataFrame(data, columns=['Name', 'Age'])"
   ]
  },
  {
   "cell_type": "code",
   "execution_count": 26,
   "id": "c5d94a5f-1764-471e-a502-6fe377d28890",
   "metadata": {},
   "outputs": [
    {
     "data": {
      "text/html": [
       "<div>\n",
       "<style scoped>\n",
       "    .dataframe tbody tr th:only-of-type {\n",
       "        vertical-align: middle;\n",
       "    }\n",
       "\n",
       "    .dataframe tbody tr th {\n",
       "        vertical-align: top;\n",
       "    }\n",
       "\n",
       "    .dataframe thead th {\n",
       "        text-align: right;\n",
       "    }\n",
       "</style>\n",
       "<table border=\"1\" class=\"dataframe\">\n",
       "  <thead>\n",
       "    <tr style=\"text-align: right;\">\n",
       "      <th></th>\n",
       "      <th>Name</th>\n",
       "      <th>Age</th>\n",
       "      <th>Years</th>\n",
       "    </tr>\n",
       "  </thead>\n",
       "  <tbody>\n",
       "    <tr>\n",
       "      <th>0</th>\n",
       "      <td>Alice</td>\n",
       "      <td>25</td>\n",
       "      <td>2004</td>\n",
       "    </tr>\n",
       "    <tr>\n",
       "      <th>1</th>\n",
       "      <td>Bob</td>\n",
       "      <td>30</td>\n",
       "      <td>2005</td>\n",
       "    </tr>\n",
       "    <tr>\n",
       "      <th>2</th>\n",
       "      <td>Charlie</td>\n",
       "      <td>35</td>\n",
       "      <td>2002</td>\n",
       "    </tr>\n",
       "    <tr>\n",
       "      <th>3</th>\n",
       "      <td>Rancel</td>\n",
       "      <td>35</td>\n",
       "      <td>2007</td>\n",
       "    </tr>\n",
       "    <tr>\n",
       "      <th>4</th>\n",
       "      <td>Jonas</td>\n",
       "      <td>25</td>\n",
       "      <td>2010</td>\n",
       "    </tr>\n",
       "    <tr>\n",
       "      <th>5</th>\n",
       "      <td>Julia</td>\n",
       "      <td>14</td>\n",
       "      <td>2013</td>\n",
       "    </tr>\n",
       "  </tbody>\n",
       "</table>\n",
       "</div>"
      ],
      "text/plain": [
       "      Name  Age  Years\n",
       "0    Alice   25   2004\n",
       "1      Bob   30   2005\n",
       "2  Charlie   35   2002\n",
       "3   Rancel   35   2007\n",
       "4    Jonas   25   2010\n",
       "5    Julia   14   2013"
      ]
     },
     "execution_count": 26,
     "metadata": {},
     "output_type": "execute_result"
    }
   ],
   "source": [
    "df_datos"
   ]
  },
  {
   "cell_type": "code",
   "execution_count": 28,
   "id": "c00666d7-9925-4f9c-b51f-bbe08901ba50",
   "metadata": {},
   "outputs": [
    {
     "data": {
      "text/html": [
       "<div>\n",
       "<style scoped>\n",
       "    .dataframe tbody tr th:only-of-type {\n",
       "        vertical-align: middle;\n",
       "    }\n",
       "\n",
       "    .dataframe tbody tr th {\n",
       "        vertical-align: top;\n",
       "    }\n",
       "\n",
       "    .dataframe thead th {\n",
       "        text-align: right;\n",
       "    }\n",
       "</style>\n",
       "<table border=\"1\" class=\"dataframe\">\n",
       "  <thead>\n",
       "    <tr style=\"text-align: right;\">\n",
       "      <th></th>\n",
       "      <th>Name</th>\n",
       "      <th>Age</th>\n",
       "      <th>Years</th>\n",
       "    </tr>\n",
       "  </thead>\n",
       "  <tbody>\n",
       "    <tr>\n",
       "      <th>0</th>\n",
       "      <td>Alice</td>\n",
       "      <td>25</td>\n",
       "      <td>2004</td>\n",
       "    </tr>\n",
       "    <tr>\n",
       "      <th>1</th>\n",
       "      <td>Bob</td>\n",
       "      <td>30</td>\n",
       "      <td>2005</td>\n",
       "    </tr>\n",
       "    <tr>\n",
       "      <th>2</th>\n",
       "      <td>Charlie</td>\n",
       "      <td>35</td>\n",
       "      <td>2002</td>\n",
       "    </tr>\n",
       "    <tr>\n",
       "      <th>3</th>\n",
       "      <td>Rancel</td>\n",
       "      <td>35</td>\n",
       "      <td>2007</td>\n",
       "    </tr>\n",
       "    <tr>\n",
       "      <th>4</th>\n",
       "      <td>Jonas</td>\n",
       "      <td>25</td>\n",
       "      <td>2010</td>\n",
       "    </tr>\n",
       "    <tr>\n",
       "      <th>5</th>\n",
       "      <td>Julia</td>\n",
       "      <td>14</td>\n",
       "      <td>2013</td>\n",
       "    </tr>\n",
       "  </tbody>\n",
       "</table>\n",
       "</div>"
      ],
      "text/plain": [
       "      Name  Age  Years\n",
       "0    Alice   25   2004\n",
       "1      Bob   30   2005\n",
       "2  Charlie   35   2002\n",
       "3   Rancel   35   2007\n",
       "4    Jonas   25   2010\n",
       "5    Julia   14   2013"
      ]
     },
     "execution_count": 28,
     "metadata": {},
     "output_type": "execute_result"
    }
   ],
   "source": [
    "df_datos.query(\"Age>=10\")"
   ]
  },
  {
   "cell_type": "code",
   "execution_count": 20,
   "id": "75449cde-7f52-467a-985a-4eefb0609d23",
   "metadata": {},
   "outputs": [],
   "source": [
    "df_datos[\"Years\"] = [2004,2005,2002,2007,2010,2013]"
   ]
  },
  {
   "cell_type": "code",
   "execution_count": 25,
   "id": "36c4523c-56ac-4a3e-8726-c7d83bad19e9",
   "metadata": {},
   "outputs": [],
   "source": [
    "df_datos = df_datos.drop('Birthday', axis=1)"
   ]
  },
  {
   "cell_type": "code",
   "execution_count": 30,
   "id": "cb3b9946-3a6d-472f-9b74-d0ec848d5920",
   "metadata": {},
   "outputs": [
    {
     "name": "stdout",
     "output_type": "stream",
     "text": [
      "      Name  Age  Years\n",
      "0    Alice   25   2004\n",
      "1      Bob   30   2005\n",
      "2  Charlie   35   2002\n",
      "3   Rancel   35   2007\n",
      "4    Jonas   25   2010\n",
      "5    Julia   14   2013\n"
     ]
    }
   ],
   "source": [
    "print(df_datos)\n"
   ]
  },
  {
   "cell_type": "code",
   "execution_count": 29,
   "id": "16357c21-5ea4-42cc-b75e-a4a016f34d36",
   "metadata": {},
   "outputs": [],
   "source": [
    "df_datos.to_csv(\"df_datos.csv\")\n",
    "df_datos.to_html(\"df_datos.html\")\n",
    "df_datos.to_json(\"df_datos.json\")"
   ]
  },
  {
   "cell_type": "code",
   "execution_count": null,
   "id": "3487a504-5147-481b-b351-47a72c9e4f52",
   "metadata": {},
   "outputs": [],
   "source": []
  }
 ],
 "metadata": {
  "kernelspec": {
   "display_name": "Python 3 (ipykernel)",
   "language": "python",
   "name": "python3"
  },
  "language_info": {
   "codemirror_mode": {
    "name": "ipython",
    "version": 3
   },
   "file_extension": ".py",
   "mimetype": "text/x-python",
   "name": "python",
   "nbconvert_exporter": "python",
   "pygments_lexer": "ipython3",
   "version": "3.10.9"
  }
 },
 "nbformat": 4,
 "nbformat_minor": 5
}
