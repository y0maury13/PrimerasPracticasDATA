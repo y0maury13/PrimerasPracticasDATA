{
 "cells": [
  {
   "cell_type": "code",
   "execution_count": 1,
   "id": "6c72f543-e83f-44e7-a410-d93789c7a32d",
   "metadata": {},
   "outputs": [],
   "source": [
    "import numpy as np"
   ]
  },
  {
   "cell_type": "code",
   "execution_count": 3,
   "id": "f87d4bd9-e983-43e8-9450-272934315423",
   "metadata": {},
   "outputs": [],
   "source": [
    "a = np.zeros ((2, 4))"
   ]
  },
  {
   "cell_type": "code",
   "execution_count": 6,
   "id": "f79a689e-58d8-4dd2-8190-f370f24f877b",
   "metadata": {},
   "outputs": [
    {
     "data": {
      "text/plain": [
       "array([[0., 0., 0., 0.],\n",
       "       [0., 0., 0., 0.]])"
      ]
     },
     "execution_count": 6,
     "metadata": {},
     "output_type": "execute_result"
    }
   ],
   "source": [
    "a"
   ]
  },
  {
   "cell_type": "code",
   "execution_count": 5,
   "id": "4b2e9cee-fc2c-48cc-9541-31d41e0da9f8",
   "metadata": {},
   "outputs": [
    {
     "data": {
      "text/plain": [
       "array([[[0., 0., 0., 0.],\n",
       "        [0., 0., 0., 0.],\n",
       "        [0., 0., 0., 0.]],\n",
       "\n",
       "       [[0., 0., 0., 0.],\n",
       "        [0., 0., 0., 0.],\n",
       "        [0., 0., 0., 0.]]])"
      ]
     },
     "execution_count": 5,
     "metadata": {},
     "output_type": "execute_result"
    }
   ],
   "source": [
    "np.zeros ((2,3,4))"
   ]
  },
  {
   "cell_type": "code",
   "execution_count": 7,
   "id": "72f748c8-2318-4b9b-96aa-8370e382eeed",
   "metadata": {},
   "outputs": [
    {
     "data": {
      "text/plain": [
       "array([[[9, 9, 9, 9],\n",
       "        [9, 9, 9, 9],\n",
       "        [9, 9, 9, 9]],\n",
       "\n",
       "       [[9, 9, 9, 9],\n",
       "        [9, 9, 9, 9],\n",
       "        [9, 9, 9, 9]]])"
      ]
     },
     "execution_count": 7,
     "metadata": {},
     "output_type": "execute_result"
    }
   ],
   "source": [
    "np.full((2,3,4),9)"
   ]
  },
  {
   "cell_type": "code",
   "execution_count": 8,
   "id": "e4c2217c-fd8c-43bd-ad20-0352b779bdf6",
   "metadata": {},
   "outputs": [
    {
     "data": {
      "text/plain": [
       "array([[[9.20039017e-312, 9.20039050e-312, 2.49644249e-312,\n",
       "         0.00000000e+000, 1.69484279e-319, 2.49644249e-312,\n",
       "         0.00000000e+000, 9.20075188e-312, 0.00000000e+000],\n",
       "        [0.00000000e+000, 0.00000000e+000, 9.20073758e-312,\n",
       "         2.47032823e-323, 6.95201306e-310, 2.02369289e-320,\n",
       "         2.47032823e-323, 6.95201306e-310, 9.88131292e-324],\n",
       "        [0.00000000e+000, 0.00000000e+000, 1.37611116e-318,\n",
       "         0.00000000e+000,             nan, 0.00000000e+000,\n",
       "         4.67296746e-307, 1.69121096e-306, 3.22649121e-307]],\n",
       "\n",
       "       [[5.56296306e-307, 7.56599807e-307, 8.90104239e-307,\n",
       "         9.34593493e-307, 6.23059726e-307, 1.69121096e-306,\n",
       "         1.51318196e-306, 7.56599807e-307, 1.78021391e-306],\n",
       "        [6.23057349e-307, 6.23053954e-307, 9.34609790e-307,\n",
       "         8.45593934e-307, 9.34600963e-307, 1.86921143e-306,\n",
       "         6.23061763e-307, 8.90104239e-307, 6.89804132e-307],\n",
       "        [1.33512376e-306, 6.89806849e-307, 9.34609790e-307,\n",
       "         1.69121096e-306, 1.05700515e-307, 1.11261774e-306,\n",
       "         1.29060871e-306, 8.34424766e-308, 2.12203497e-312]]])"
      ]
     },
     "execution_count": 8,
     "metadata": {},
     "output_type": "execute_result"
    }
   ],
   "source": [
    "np.empty((2,3,9))"
   ]
  },
  {
   "cell_type": "code",
   "execution_count": 12,
   "id": "d8d24b00-686d-4fca-af47-57021397c95e",
   "metadata": {},
   "outputs": [],
   "source": [
    "b =np.array([[1,2,3],[4,5,6]])"
   ]
  },
  {
   "cell_type": "code",
   "execution_count": 13,
   "id": "76a5c0b2-2c48-4feb-8b8f-01f2b34bd028",
   "metadata": {},
   "outputs": [
    {
     "data": {
      "text/plain": [
       "2"
      ]
     },
     "execution_count": 13,
     "metadata": {},
     "output_type": "execute_result"
    }
   ],
   "source": [
    "b.ndim"
   ]
  },
  {
   "cell_type": "code",
   "execution_count": 15,
   "id": "eef5a23d-7f04-4eca-a896-0f147e8e4bdf",
   "metadata": {},
   "outputs": [
    {
     "data": {
      "text/plain": [
       "array([0.        , 0.66666667, 1.33333333, 2.        , 2.66666667,\n",
       "       3.33333333, 4.        , 4.66666667, 5.33333333, 6.        ])"
      ]
     },
     "execution_count": 15,
     "metadata": {},
     "output_type": "execute_result"
    }
   ],
   "source": [
    "np.linspace(0,6,10)"
   ]
  },
  {
   "cell_type": "code",
   "execution_count": 16,
   "id": "a99f80f5-2c5e-4157-8d07-d1062578ef19",
   "metadata": {},
   "outputs": [
    {
     "data": {
      "text/plain": [
       "array([[0.91033386, 0.98469937, 0.49348157, 0.61234871],\n",
       "       [0.26065882, 0.63562599, 0.17864985, 0.48344779]])"
      ]
     },
     "execution_count": 16,
     "metadata": {},
     "output_type": "execute_result"
    }
   ],
   "source": [
    "np.random.rand(2,4)"
   ]
  },
  {
   "cell_type": "code",
   "execution_count": 20,
   "id": "c72a8f7f-ba92-4ed6-b703-d194a776d3f6",
   "metadata": {},
   "outputs": [
    {
     "name": "stdout",
     "output_type": "stream",
     "text": [
      "(2, 4)\n"
     ]
    },
    {
     "data": {
      "text/plain": [
       "array([[1, 2, 3, 4],\n",
       "       [5, 6, 7, 8]])"
      ]
     },
     "execution_count": 20,
     "metadata": {},
     "output_type": "execute_result"
    }
   ],
   "source": [
    "array_multi = np.array([[1,2,3,4],[5,6,7,8]])\n",
    "print(array_multi.shape)\n",
    "array_multi"
   ]
  },
  {
   "cell_type": "code",
   "execution_count": 21,
   "id": "3411197d-17bb-401a-94c3-cd03109b98e9",
   "metadata": {},
   "outputs": [
    {
     "data": {
      "text/plain": [
       "array([5, 6, 7, 8])"
      ]
     },
     "execution_count": 21,
     "metadata": {},
     "output_type": "execute_result"
    }
   ],
   "source": [
    "array_multi[1,:]"
   ]
  },
  {
   "cell_type": "code",
   "execution_count": 25,
   "id": "1d5f5b10-aa07-4e3f-9945-a517f79d80e1",
   "metadata": {},
   "outputs": [
    {
     "data": {
      "text/plain": [
       "4"
      ]
     },
     "execution_count": 25,
     "metadata": {},
     "output_type": "execute_result"
    }
   ],
   "source": [
    "array_multi[0,3]"
   ]
  },
  {
   "cell_type": "code",
   "execution_count": 26,
   "id": "f389590c-9051-4bb2-a312-6023f6c3f6ea",
   "metadata": {},
   "outputs": [
    {
     "data": {
      "text/plain": [
       "array([3, 7])"
      ]
     },
     "execution_count": 26,
     "metadata": {},
     "output_type": "execute_result"
    }
   ],
   "source": [
    "array_multi[:,2]"
   ]
  },
  {
   "cell_type": "code",
   "execution_count": 27,
   "id": "73c6d28e-0382-4799-a329-54022ef5ef3d",
   "metadata": {},
   "outputs": [],
   "source": [
    "array1=np.arange(28)"
   ]
  },
  {
   "cell_type": "code",
   "execution_count": 28,
   "id": "a9c2fc55-d815-406e-85c6-247bab4869f3",
   "metadata": {},
   "outputs": [
    {
     "data": {
      "text/plain": [
       "array([ 0,  1,  2,  3,  4,  5,  6,  7,  8,  9, 10, 11, 12, 13, 14, 15, 16,\n",
       "       17, 18, 19, 20, 21, 22, 23, 24, 25, 26, 27])"
      ]
     },
     "execution_count": 28,
     "metadata": {},
     "output_type": "execute_result"
    }
   ],
   "source": [
    "array1"
   ]
  },
  {
   "cell_type": "code",
   "execution_count": 33,
   "id": "7b0c0cfe-25f4-4359-a9b8-2190d2d24f1e",
   "metadata": {},
   "outputs": [],
   "source": [
    "array1.shape =(7,4)"
   ]
  },
  {
   "cell_type": "code",
   "execution_count": 34,
   "id": "becfad24-ad51-4513-bb8c-978e2613b6a3",
   "metadata": {},
   "outputs": [
    {
     "data": {
      "text/plain": [
       "array([[ 0,  1,  2,  3],\n",
       "       [ 4,  5,  6,  7],\n",
       "       [ 8,  9, 10, 11],\n",
       "       [12, 13, 14, 15],\n",
       "       [16, 17, 18, 19],\n",
       "       [20, 21, 22, 23],\n",
       "       [24, 25, 26, 27]])"
      ]
     },
     "execution_count": 34,
     "metadata": {},
     "output_type": "execute_result"
    }
   ],
   "source": [
    "array1"
   ]
  },
  {
   "cell_type": "code",
   "execution_count": 35,
   "id": "e93742cd-07f5-4be0-bddb-147d307823d1",
   "metadata": {},
   "outputs": [],
   "source": [
    "array2 =array1.reshape(4,7)"
   ]
  },
  {
   "cell_type": "code",
   "execution_count": 36,
   "id": "f3fe1dc7-36f9-4075-aadb-1dda3c3d0819",
   "metadata": {},
   "outputs": [],
   "source": [
    "array2[0,3]=17"
   ]
  },
  {
   "cell_type": "code",
   "execution_count": 37,
   "id": "8df0082b-caab-4991-aa4f-1d22187664bf",
   "metadata": {},
   "outputs": [
    {
     "data": {
      "text/plain": [
       "array([[ 0,  1,  2, 17,  4,  5,  6],\n",
       "       [ 7,  8,  9, 10, 11, 12, 13],\n",
       "       [14, 15, 16, 17, 18, 19, 20],\n",
       "       [21, 22, 23, 24, 25, 26, 27]])"
      ]
     },
     "execution_count": 37,
     "metadata": {},
     "output_type": "execute_result"
    }
   ],
   "source": [
    "array2"
   ]
  },
  {
   "cell_type": "code",
   "execution_count": 38,
   "id": "6f44f34d-742b-4567-a5b4-29a5d5e5b1f7",
   "metadata": {},
   "outputs": [
    {
     "data": {
      "text/plain": [
       "array([ 0,  1,  2, 17,  4,  5,  6,  7,  8,  9, 10, 11, 12, 13, 14, 15, 16,\n",
       "       17, 18, 19, 20, 21, 22, 23, 24, 25, 26, 27])"
      ]
     },
     "execution_count": 38,
     "metadata": {},
     "output_type": "execute_result"
    }
   ],
   "source": [
    "array1.ravel()"
   ]
  },
  {
   "cell_type": "code",
   "execution_count": null,
   "id": "449d3426-2820-4bf4-8abb-de087ecbf2cb",
   "metadata": {},
   "outputs": [],
   "source": []
  }
 ],
 "metadata": {
  "kernelspec": {
   "display_name": "Python 3 (ipykernel)",
   "language": "python",
   "name": "python3"
  },
  "language_info": {
   "codemirror_mode": {
    "name": "ipython",
    "version": 3
   },
   "file_extension": ".py",
   "mimetype": "text/x-python",
   "name": "python",
   "nbconvert_exporter": "python",
   "pygments_lexer": "ipython3",
   "version": "3.10.9"
  }
 },
 "nbformat": 4,
 "nbformat_minor": 5
}
